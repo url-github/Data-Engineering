{
  "nbformat": 4,
  "nbformat_minor": 0,
  "metadata": {
    "colab": {
      "provenance": [],
      "authorship_tag": "ABX9TyOKIRXVq9rScGVprXKBmtRi",
      "include_colab_link": true
    },
    "kernelspec": {
      "name": "python3",
      "display_name": "Python 3"
    },
    "language_info": {
      "name": "python"
    }
  },
  "cells": [
    {
      "cell_type": "markdown",
      "metadata": {
        "id": "view-in-github",
        "colab_type": "text"
      },
      "source": [
        "<a href=\"https://colab.research.google.com/github/url-github/Data-Engineering/blob/main/2_Spotify_2_TRANSFORM.ipynb\" target=\"_parent\"><img src=\"https://colab.research.google.com/assets/colab-badge.svg\" alt=\"Open In Colab\"/></a>"
      ]
    },
    {
      "cell_type": "code",
      "source": [
        "# https://www.youtube.com/playlist?list=PLNkCniHtd0PNM4NZ5etgYMw4ojid0Aa6i"
      ],
      "metadata": {
        "id": "1IYtxu5JlB7w"
      },
      "execution_count": null,
      "outputs": []
    },
    {
      "cell_type": "markdown",
      "source": [
        "Transform - chodzi o weryfikację czy dane są dobre np. plik JSON nie jest pusty, albo nie ma tam duplikatów."
      ],
      "metadata": {
        "id": "7ekBv1p0dhof"
      }
    },
    {
      "cell_type": "markdown",
      "source": [
        "Weryfikacja (Integralność danych) w poniższym kodzie sprowadza się do funkcji `check_if_valid_data`"
      ],
      "metadata": {
        "id": "xXbxykdefMpt"
      }
    },
    {
      "cell_type": "markdown",
      "source": [
        "## III wersja"
      ],
      "metadata": {
        "id": "-lvCWETYeIie"
      }
    },
    {
      "cell_type": "code",
      "execution_count": null,
      "metadata": {
        "colab": {
          "base_uri": "https://localhost:8080/"
        },
        "id": "1KGz_TEEa425",
        "outputId": "e6730ffa-706c-4be7-ad3c-91a6af73bada"
      },
      "outputs": [
        {
          "output_type": "stream",
          "name": "stdout",
          "text": [
            "                                            song_name  \\\n",
            "0          Comfortably Numb - 2011 Remastered Version   \n",
            "1      Wots ... Uh The Deal - 2011 Remastered Version   \n",
            "2                         Cluster One - 2011 Remaster   \n",
            "3                      Time - 2011 Remastered Version   \n",
            "4              Interstellar Overdrive - 2011 Remaster   \n",
            "5               Us And Them - 2011 Remastered Version   \n",
            "6             The Final Cut - 2011 Remastered Version   \n",
            "7                    Sorrow - 2011 Remastered Version   \n",
            "8                                  Wish You Were Here   \n",
            "9   Shine On You Crazy Diamond, Pts. 1-5 - 2011 Re...   \n",
            "10                   Astronomy Domine - 2011 Remaster   \n",
            "11                 Fearless - 2011 Remastered Version   \n",
            "12             Arnold Layne - 1996 Remastered Version   \n",
            "13             Brain Damage - 2011 Remastered Version   \n",
            "14                        Poles Apart - 2011 Remaster   \n",
            "15     Breathe (In The Air) - 2011 Remastered Version   \n",
            "16                                           Air Horn   \n",
            "17                           Main Theme (From \"Jaws\")   \n",
            "18                                        The X-Files   \n",
            "19   The X-Files Theme (Main Title: Materia Primoris)   \n",
            "\n",
            "                                  artist_name                 played_at  \\\n",
            "0                                  Pink Floyd  2022-09-11T08:53:48.599Z   \n",
            "1                                  Pink Floyd  2022-09-11T08:47:28.543Z   \n",
            "2                                  Pink Floyd  2022-09-11T08:42:18.862Z   \n",
            "3                                  Pink Floyd  2022-09-11T08:36:23.184Z   \n",
            "4                                  Pink Floyd  2022-09-11T08:29:20.274Z   \n",
            "5                                  Pink Floyd  2022-09-11T08:18:50.039Z   \n",
            "6                                  Pink Floyd  2022-09-11T08:10:57.365Z   \n",
            "7                                  Pink Floyd  2022-09-11T08:06:10.183Z   \n",
            "8                                  Pink Floyd  2022-09-11T07:57:24.318Z   \n",
            "9                                  Pink Floyd  2022-09-11T07:52:02.664Z   \n",
            "10                                 Pink Floyd  2022-09-11T07:38:32.310Z   \n",
            "11                                 Pink Floyd  2022-09-11T07:34:20.152Z   \n",
            "12                                 Pink Floyd  2022-09-11T07:28:11.453Z   \n",
            "13                                 Pink Floyd  2022-09-11T07:25:15.179Z   \n",
            "14                                 Pink Floyd  2022-09-11T07:21:28.774Z   \n",
            "15                                 Pink Floyd  2022-09-11T07:14:24.477Z   \n",
            "16                            Gabriel Mercado  2022-09-10T16:03:34.071Z   \n",
            "17  The City of Prague Philharmonic Orchestra  2022-09-10T15:58:49.094Z   \n",
            "18                            Various Artists  2022-09-10T15:56:33.025Z   \n",
            "19                        TV Series Unlimited  2022-09-10T15:52:17.939Z   \n",
            "\n",
            "     timestamp  \n",
            "0   2022-09-11  \n",
            "1   2022-09-11  \n",
            "2   2022-09-11  \n",
            "3   2022-09-11  \n",
            "4   2022-09-11  \n",
            "5   2022-09-11  \n",
            "6   2022-09-11  \n",
            "7   2022-09-11  \n",
            "8   2022-09-11  \n",
            "9   2022-09-11  \n",
            "10  2022-09-11  \n",
            "11  2022-09-11  \n",
            "12  2022-09-11  \n",
            "13  2022-09-11  \n",
            "14  2022-09-11  \n",
            "15  2022-09-11  \n",
            "16  2022-09-10  \n",
            "17  2022-09-10  \n",
            "18  2022-09-10  \n",
            "19  2022-09-10  \n"
          ]
        }
      ],
      "source": [
        "import sqlalchemy\n",
        "import pandas as pd \n",
        "from sqlalchemy.orm import sessionmaker\n",
        "import requests\n",
        "import json\n",
        "from datetime import datetime\n",
        "import datetime\n",
        "import sqlite3\n",
        "\n",
        "\n",
        "DATABASE_LOCATION = \"sqlite:///my_played_tracks.sqlite\"\n",
        "USER_ID = \"31yahlyxg6b7b27ffx4qrguic5e4\" # your Spotify username \n",
        "TOKEN = \"BQCLrthKISKuBifWf8YK5-mav1P6zXOsiUmUYNwinEmE2KBBsjtjjfCTR4v7DjpG7MprNVw2axhEzf_y-L0YH4A6cRqWO9Tjq0rHgtLbCYQ8hfM6DNaxyaEDK20YQlFeotjiEJFXtDtTD3cnTeN7S8P6dLMmfStLXwItggy0hfoIP154RrYGXhWWR5-sHcF3OGNemAyW\" # your Spotify API token\n",
        "\n",
        "# Generate your token here:  https://developer.spotify.com/console/get-recently-played/\n",
        "# Note: You need a Spotify account (can be easily created for free)\n",
        "\n",
        "def check_if_valid_data(df: pd.DataFrame) -> bool:\n",
        "    # Sprawdź, czy dataframe jest pusty\n",
        "    if df.empty:\n",
        "        print(\"No songs downloaded. Finishing execution\") # Nie pobrano żadnych utworów. \n",
        "        return False \n",
        "\n",
        "    # Sprawdzenie klucza podstawowego (Primary Key Check)\n",
        "    if pd.Series(df['played_at']).is_unique:\n",
        "        pass\n",
        "    else:\n",
        "        raise Exception(\"Primary Key check is violated\") # Kontrola klucza podstawowego jest naruszona\n",
        "\n",
        "    # Sprawdź, czy nie ma wartości null\n",
        "    if df.isnull().values.any():\n",
        "        raise Exception(\"Null values found\") # Znaleziono null\n",
        "\n",
        "    # Sprawdź, czy wszystkie znaczniki czasu pochodzą z wczorajszej daty\n",
        "    yesterday = datetime.datetime.now() - datetime.timedelta(days=1)\n",
        "    yesterday = yesterday.replace(hour=0, minute=0, second=0, microsecond=0)\n",
        "\n",
        "    timestamps = df[\"timestamp\"].tolist()\n",
        "    for timestamp in timestamps:\n",
        "        if datetime.datetime.strptime(timestamp, '%Y-%m-%d') != yesterday:\n",
        "            raise Exception(\"At least one of the returned songs does not have a yesterday's timestamp\")\n",
        "            # Co najmniej jeden ze zwróconych utworów nie ma wczorajszego znacznika czasu\n",
        "\n",
        "    return True\n",
        "\n",
        "if __name__ == \"__main__\":\n",
        "\n",
        "    # Wyodrębnij część procesu ETL\n",
        " \n",
        "    headers = {\n",
        "        \"Accept\" : \"application/json\",\n",
        "        \"Content-Type\" : \"application/json\",\n",
        "        \"Authorization\" : f'Bearer {TOKEN}'\n",
        "    }\n",
        "    \n",
        "    # Konwertuj czas na uniksowy znacznik czasu w milisekundach     \n",
        "    today = datetime.datetime.now()\n",
        "    yesterday = today - datetime.timedelta(days=1)\n",
        "    yesterday_unix_timestamp = int(yesterday.timestamp()) * 1000\n",
        "\n",
        "    # Pobierz wszystkie utwory, których słuchałeś „po wczoraj”, czyli w ciągu ostatnich 24 godzin    \n",
        "    r = requests.get(\"https://api.spotify.com/v1/me/player/recently-played?after={time}\".format(time=yesterday_unix_timestamp), headers = headers)\n",
        "\n",
        "    data = r.json()\n",
        "\n",
        "    song_names = []\n",
        "    artist_names = []\n",
        "    played_at_list = []\n",
        "    timestamps = []\n",
        "\n",
        "    # Wyodrębnianie tylko odpowiednich danych z obiektu json     \n",
        "    for song in data[\"items\"]:\n",
        "        song_names.append(song[\"track\"][\"name\"])\n",
        "        artist_names.append(song[\"track\"][\"album\"][\"artists\"][0][\"name\"])\n",
        "        played_at_list.append(song[\"played_at\"])\n",
        "        timestamps.append(song[\"played_at\"][0:10])\n",
        "\n",
        "    # Przygotuj słownik, aby przekształcić go w data frame poniżej       \n",
        "    song_dict = {\n",
        "        \"song_name\" : song_names,\n",
        "        \"artist_name\": artist_names,\n",
        "        \"played_at\" : played_at_list,\n",
        "        \"timestamp\" : timestamps\n",
        "    }\n",
        "\n",
        "    song_df = pd.DataFrame(song_dict, columns = [\"song_name\", \"artist_name\", \"played_at\", \"timestamp\"])\n",
        "\n",
        "    print(song_df)"
      ]
    }
  ]
}